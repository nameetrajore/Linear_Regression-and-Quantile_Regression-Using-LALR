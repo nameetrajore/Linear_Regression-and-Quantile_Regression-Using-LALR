{
  "cells": [
    {
      "cell_type": "code",
      "execution_count": null,
      "metadata": {
        "id": "FqPJQr4vEGWt"
      },
      "outputs": [],
      "source": [
        "import tensorflow as tf\n",
        "from sklearn.preprocessing import StandardScaler\n",
        "from tensorflow import keras\n",
        "from tensorflow.keras.datasets import boston_housing\n",
        "from sklearn import preprocessing\n",
        "import numpy as np\n",
        "import tensorflow.keras.backend as K\n",
        "from matplotlib import pyplot as plt\n",
        "from tensorflow.keras.callbacks import LearningRateScheduler\n",
        "from tensorflow.keras.models import Sequential\n",
        "from tensorflow.keras.layers import Dense"
      ]
    },
    {
      "cell_type": "code",
      "execution_count": null,
      "metadata": {},
      "outputs": [],
      "source": [
        "(x_train, y_train), (x_test, y_test) = boston_housing.load_data()\n",
        "delta = 0.5"
      ]
    },
    {
      "cell_type": "code",
      "execution_count": null,
      "metadata": {},
      "outputs": [],
      "source": [
        "scaler = StandardScaler()\n",
        "scaler.fit(x_train)\n",
        "x_train = scaler.transform(x_train)\n",
        "x_test = scaler.transform(x_test)\n",
        "y_train = np.expand_dims(y_train,axis=1)\n",
        "y_test = np.expand_dims(y_test,axis=1)\n",
        "scaler.fit(y_train)\n",
        "y_train = scaler.transform(y_train)\n",
        "y_test = scaler.transform(y_test)"
      ]
    },
    {
      "cell_type": "code",
      "execution_count": null,
      "metadata": {},
      "outputs": [],
      "source": [
        "def huber_loss(y_true, y_pred, delta):\n",
        "    loss = keras.losses.huber(y_true=y_true,y_pred=y_pred, delta=delta)\n",
        "    return loss"
      ]
    },
    {
      "cell_type": "code",
      "execution_count": null,
      "metadata": {
        "id": "8ttDLPdhE8Nf"
      },
      "outputs": [],
      "source": [
        "def Boston_Housing():\n",
        "  model = Sequential()\n",
        "  model.add(Dense(20, activation='relu', input_shape=(x_train[0].shape)))\n",
        "  model.add(Dense(1, activation='softsign'))\n",
        "  model.compile( optimizer='SGD', loss=lambda y_true, y_pred:huber_loss(y_true, y_pred, delta) , metrics=['mae'])\n",
        "  return model"
      ]
    },
    {
      "cell_type": "code",
      "execution_count": null,
      "metadata": {
        "colab": {
          "base_uri": "https://localhost:8080/",
          "height": 1000
        },
        "id": "e9Oab_dc_x2O",
        "outputId": "e52610d5-a1e7-402b-de48-f854c3ffe332"
      },
      "outputs": [],
      "source": [
        "epochs = 1000\n",
        "batch_size = 8"
      ]
    },
    {
      "cell_type": "code",
      "execution_count": null,
      "metadata": {},
      "outputs": [],
      "source": [
        "model_const = Boston_Housing()\n",
        "K.set_value(model_const.optimizer.learning_rate, 0.1)\n",
        "history = model_const.fit(x=x_train, y=y_train, epochs=epochs, batch_size=batch_size, verbose=0, validation_data=(x_test, y_test))"
      ]
    },
    {
      "cell_type": "code",
      "execution_count": null,
      "metadata": {},
      "outputs": [],
      "source": [
        "lrs = [] # to store learning rates\n",
        "K1 = 0.\n",
        "model_adapt = Boston_Housing()\n",
        "func = K.function([model_adapt.layers[0].input], [model_adapt.layers[-2].output]) # to get the values of activations of second last layer\n",
        "def lr_schedule(epoch):\n",
        "    global K1\n",
        "\n",
        "    Kz = 0.\n",
        "    \n",
        "    for i in (range((len(x_train) - 1) // batch_size + 1)):\n",
        "      start_i = i * batch_size\n",
        "      end_i = start_i + batch_size\n",
        "      xb = x_train[start_i:end_i]\n",
        "      \n",
        "      tmp = np.array(func([xb]))\n",
        "      activ = np.linalg.norm(tmp)\n",
        "      if activ > Kz:\n",
        "          Kz = activ\n",
        "    K1 = (1/batch_size)*(Kz)*(1/delta)\n",
        "    lr = 1 / K1\n",
        "    lrs.append(lr)\n",
        "    return lr"
      ]
    },
    {
      "cell_type": "code",
      "execution_count": null,
      "metadata": {},
      "outputs": [],
      "source": [
        "lr_scheduler = LearningRateScheduler(lr_schedule)\n",
        "history_lalr = model_adapt.fit(x=x_train, y=y_train, epochs=epochs, batch_size=batch_size, verbose=0, validation_data=(x_test, y_test), callbacks=[lr_scheduler])"
      ]
    },
    {
      "cell_type": "code",
      "execution_count": null,
      "metadata": {
        "colab": {
          "base_uri": "https://localhost:8080/",
          "height": 283
        },
        "id": "KMs1H_TugnLl",
        "outputId": "a3b99209-c781-4c50-c437-77f61a48f351"
      },
      "outputs": [],
      "source": [
        "loss_adaptive = history_lalr.history['loss']\n",
        "loss_constant = history.history['loss']\n",
        "epochs = range(len(loss_adaptive))\n",
        "plt.plot(epochs, loss_adaptive, 'r', label='Adaptive LR')\n",
        "plt.plot(epochs, loss_constant, 'b',label='Constant LR = 0.1')\n",
        "plt.xlabel('Epochs')\n",
        "plt.ylabel('Training Loss')\n",
        "plt.title('Training loss - Boston Housing')\n",
        "plt.legend()"
      ]
    },
    {
      "cell_type": "code",
      "execution_count": null,
      "metadata": {},
      "outputs": [],
      "source": [
        "plt.title('Learning Rates - Boston Housing')\n",
        "plt.plot(epochs, lrs, label='Adaptive Learning Rate')\n",
        "plt.plot(epochs, [0.1]*len(epochs), label ='Constant Learning Rate')\n",
        "plt.xlabel('Epochs')\n",
        "plt.ylabel('Learning Rate')\n",
        "plt.legend()"
      ]
    },
    {
      "cell_type": "code",
      "execution_count": null,
      "metadata": {},
      "outputs": [],
      "source": [
        "val_loss = history_lalr.history['val_loss']\n",
        "loss = history_lalr.history['loss']\n",
        "epochs = range(len(loss_adaptive))\n",
        "\n",
        "plt.plot(epochs, val_loss, 'r', label='Validation Loss')\n",
        "plt.plot(epochs, loss, 'b',label=\"Training Loss\")\n",
        "plt.xlabel('Epochs')\n",
        "plt.ylabel('Loss')\n",
        "# plt.plot(epochs, history_lalr, 'b', label='LALR')\n",
        "plt.title('Validation loss - Boston Housing')\n",
        "plt.legend()"
      ]
    }
  ],
  "metadata": {
    "colab": {
      "provenance": []
    },
    "kernelspec": {
      "display_name": "Python 3.9.13 ('base')",
      "language": "python",
      "name": "python3"
    },
    "language_info": {
      "codemirror_mode": {
        "name": "ipython",
        "version": 3
      },
      "file_extension": ".py",
      "mimetype": "text/x-python",
      "name": "python",
      "nbconvert_exporter": "python",
      "pygments_lexer": "ipython3",
      "version": "3.9.13"
    },
    "vscode": {
      "interpreter": {
        "hash": "550961419a36abe24d12227d033c554dac4149fde17cf68ad84088aff59c46a1"
      }
    }
  },
  "nbformat": 4,
  "nbformat_minor": 0
}
