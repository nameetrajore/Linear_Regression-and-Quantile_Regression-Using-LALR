{
  "cells": [
    {
      "cell_type": "code",
      "execution_count": null,
      "metadata": {
        "id": "N2C_If8YUwu5"
      },
      "outputs": [],
      "source": [
        "from tensorflow import keras\n",
        "import pandas as pd\n",
        "import tensorflow as tf\n",
        "from tensorflow import keras\n",
        "from tensorflow.keras.callbacks import LearningRateScheduler\n",
        "import numpy as np\n",
        "import tensorflow as tf\n",
        "from sklearn.utils import shuffle\n",
        "from tensorflow.keras import models\n",
        "from tensorflow.keras import backend as K\n",
        "from tensorflow.keras import layers\n",
        "from matplotlib import pyplot as plt"
      ]
    },
    {
      "cell_type": "code",
      "execution_count": null,
      "metadata": {
        "id": "c0aTKk2jU_rJ"
      },
      "outputs": [],
      "source": [
        "dataset = pd.read_csv(\"../Datasets/ENB2012_data.csv\")\n",
        "dataset = shuffle(dataset)\n",
        "x_test = dataset.iloc[:50,:]\n",
        "x_test = dataset.iloc[:50,:]\n",
        "x_train = dataset.iloc[50:,:]\n",
        "y_train = x_train.iloc[:,-2:]\n",
        "y_test = x_test.iloc[:,-2:]\n",
        "x_train = x_train.iloc[:,:-2]\n",
        "x_test = x_test.iloc[:,:-2]\n",
        "x_train_dummy = pd.get_dummies(x_train.iloc[:,-1])\n",
        "x_test_dummy = pd.get_dummies(x_test.iloc[:,-1])\n",
        "x_train['0'] = x_train_dummy.iloc[:,0]\n",
        "x_train['1'] = x_train_dummy.iloc[:,1]\n",
        "x_train['2'] = x_train_dummy.iloc[:,2]\n",
        "x_train['3'] = x_train_dummy.iloc[:,3]\n",
        "x_train['4'] = x_train_dummy.iloc[:,4]\n",
        "x_train['5'] = x_train_dummy.iloc[:,5]\n",
        "x_train.pop('X8')\n",
        "x_test['0'] = x_test_dummy.iloc[:,0]\n",
        "x_test['1'] = x_test_dummy.iloc[:,1]\n",
        "x_test['2'] = x_test_dummy.iloc[:,2]\n",
        "x_test['3'] = x_test_dummy.iloc[:,3]\n",
        "x_test['4'] = x_test_dummy.iloc[:,4]\n",
        "x_test['5'] = x_test_dummy.iloc[:,5]\n",
        "x_test.pop('X8')"
      ]
    },
    {
      "cell_type": "code",
      "execution_count": null,
      "metadata": {
        "id": "nzD3VealYQFD"
      },
      "outputs": [],
      "source": [
        "from sklearn.preprocessing import StandardScaler\n",
        "scaler = StandardScaler()"
      ]
    },
    {
      "cell_type": "code",
      "execution_count": null,
      "metadata": {
        "colab": {
          "base_uri": "https://localhost:8080/",
          "height": 34
        },
        "id": "nbFf7pDqYSfz",
        "outputId": "4c8a0145-c121-49b4-975a-961e5d90fc8b"
      },
      "outputs": [],
      "source": [
        "scaler.fit(x_train)\n",
        "x_train = scaler.transform(x_train)\n",
        "x_test = scaler.transform(x_test)\n",
        "scaler.fit(y_train)\n",
        "y_train = scaler.transform(y_train)\n",
        "y_test = scaler.transform(y_test)"
      ]
    },
    {
      "cell_type": "code",
      "execution_count": null,
      "metadata": {},
      "outputs": [],
      "source": []
    },
    {
      "cell_type": "code",
      "execution_count": null,
      "metadata": {
        "id": "OP9-Q_BdYrUQ"
      },
      "outputs": [],
      "source": [
        "def EnergyEff():\n",
        "    model = models.Sequential()\n",
        "    model.add(layers.Dense(50, activation='relu', input_shape=(x_train.shape[1],)))\n",
        "    model.add(layers.Dense(1,activation=keras.activations.softsign))\n",
        "    model.compile(loss=keras.losses.MAE, optimizer='SGD')\n",
        "    return model"
      ]
    },
    {
      "cell_type": "code",
      "execution_count": null,
      "metadata": {
        "id": "0B-UwI5nZPgL"
      },
      "outputs": [],
      "source": [
        "lrs = []\n",
        "K1 = 0.\n",
        "epochs = 2000\n",
        "batch_size=64\n",
        "num_classes = 2"
      ]
    },
    {
      "cell_type": "code",
      "execution_count": null,
      "metadata": {
        "id": "k1yutwSgZOPq"
      },
      "outputs": [],
      "source": [
        "model_const = EnergyEff() \n",
        "K.set_value(model_const.optimizer.learning_rate, 0.1)\n",
        "history = model_const.fit(x=x_train, y=y_train, epochs=epochs, batch_size=batch_size, verbose=0, validation_data=(x_test, y_test))"
      ]
    },
    {
      "cell_type": "code",
      "execution_count": null,
      "metadata": {
        "id": "1aPfOcefZWyg"
      },
      "outputs": [],
      "source": [
        "model_adapt = EnergyEff()\n",
        "func = K.function([model_adapt.layers[0].input], [model_adapt.layers[-2].output])\n",
        "def lr_schedule(epoch):\n",
        "    global K1\n",
        "\n",
        "    Kz = 0.\n",
        "    \n",
        "    for i in (range((len(x_train) - 1) // batch_size + 1)):\n",
        "      start_i = i * batch_size\n",
        "      end_i = start_i + batch_size\n",
        "      xb = x_train[start_i:end_i]\n",
        "    \n",
        "      tmp = np.array(func([xb]))\n",
        "      activ = np.linalg.norm(tmp)\n",
        "      \n",
        "      if activ > Kz:\n",
        "          Kz = activ\n",
        "    K1 = (1/batch_size)*(Kz)*(1/num_classes)\n",
        "    lr = 1 / K1\n",
        "    lrs.append(lr)\n",
        "    return lr\n"
      ]
    },
    {
      "cell_type": "code",
      "execution_count": null,
      "metadata": {
        "id": "-u9ZKjnYZbjV"
      },
      "outputs": [],
      "source": [
        "lr_scheduler = LearningRateScheduler(lr_schedule)"
      ]
    },
    {
      "cell_type": "code",
      "execution_count": null,
      "metadata": {
        "colab": {
          "base_uri": "https://localhost:8080/",
          "height": 1000
        },
        "id": "1G0_RHTJZkWx",
        "outputId": "294b7f8c-bccd-4812-9514-0beee6ff6252"
      },
      "outputs": [],
      "source": [
        "history_lalr=model_adapt.fit(x_train, y_train, epochs = epochs, verbose=0, batch_size = batch_size,validation_data=(x_test,y_test),callbacks=[lr_scheduler])"
      ]
    },
    {
      "cell_type": "code",
      "execution_count": null,
      "metadata": {
        "colab": {
          "base_uri": "https://localhost:8080/",
          "height": 281
        },
        "id": "AMAx0JOiZpFs",
        "outputId": "c72592a5-840e-40cb-d04c-ab8490dd6a1b"
      },
      "outputs": [],
      "source": [
        "loss_adaptive = history_lalr.history['loss']\n",
        "loss_constant = history.history['loss']\n",
        "epochs = range(len(loss_adaptive))\n",
        "plt.plot(epochs, loss_adaptive, 'r', label='Adaptive LR')\n",
        "plt.plot(epochs, loss_constant, 'b',label='Constant LR = 0.1')\n",
        "plt.xlabel('Epochs')\n",
        "plt.ylabel('Training Loss')\n",
        "plt.title('Training loss - Energy Efficiency')\n",
        "plt.legend()\n"
      ]
    },
    {
      "cell_type": "code",
      "execution_count": null,
      "metadata": {},
      "outputs": [],
      "source": [
        "plt.title('Learning Rates - Energy Efficiency')\n",
        "plt.plot(epochs, lrs, label='Adaptive Learning Rate')\n",
        "plt.plot(epochs, [0.1]*len(epochs), label ='Constant Learning Rate')\n",
        "plt.xlabel('Epochs')\n",
        "plt.ylabel('Learning Rate')\n",
        "plt.legend()"
      ]
    }
  ],
  "metadata": {
    "colab": {
      "name": "EnergyEfficiency_Quantile_Lipschitz",
      "provenance": []
    },
    "kernelspec": {
      "display_name": "Python 3.9.13 ('base')",
      "language": "python",
      "name": "python3"
    },
    "language_info": {
      "codemirror_mode": {
        "name": "ipython",
        "version": 3
      },
      "file_extension": ".py",
      "mimetype": "text/x-python",
      "name": "python",
      "nbconvert_exporter": "python",
      "pygments_lexer": "ipython3",
      "version": "3.9.13"
    },
    "vscode": {
      "interpreter": {
        "hash": "550961419a36abe24d12227d033c554dac4149fde17cf68ad84088aff59c46a1"
      }
    }
  },
  "nbformat": 4,
  "nbformat_minor": 0
}
